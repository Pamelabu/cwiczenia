{
  "nbformat": 4,
  "nbformat_minor": 0,
  "metadata": {
    "colab": {
      "provenance": [],
      "authorship_tag": "ABX9TyNhqoLIS2MJelkFqZP4ml/M",
      "include_colab_link": true
    },
    "kernelspec": {
      "name": "python3",
      "display_name": "Python 3"
    },
    "language_info": {
      "name": "python"
    }
  },
  "cells": [
    {
      "cell_type": "markdown",
      "metadata": {
        "id": "view-in-github",
        "colab_type": "text"
      },
      "source": [
        "<a href=\"https://colab.research.google.com/github/Pamelabu/cwiczenia/blob/main/PAD_%C4%87w1.ipynb\" target=\"_parent\"><img src=\"https://colab.research.google.com/assets/colab-badge.svg\" alt=\"Open In Colab\"/></a>"
      ]
    },
    {
      "cell_type": "markdown",
      "source": [
        "# *Zadanie 1*\n",
        "\n",
        "\n",
        "---\n",
        "\n",
        "\n",
        "\n",
        "Stwórz funkcję pitagoras, która oblicza długość przeciwprostokątnej\n",
        "dowolnego trójkąta prostopadłego z użyciem twierdzenia pitagorasa"
      ],
      "metadata": {
        "id": "dRD6-F5Spdxh"
      }
    },
    {
      "cell_type": "code",
      "source": [
        "import math\n",
        "def pitagoras(a,b):\n",
        "  c = math.sqrt(a**2+b**2)\n",
        "  return c\n",
        "pitagoras(2,3)"
      ],
      "metadata": {
        "id": "tgxDicehtbik"
      },
      "execution_count": null,
      "outputs": []
    },
    {
      "cell_type": "markdown",
      "source": [
        "# *Zadanie 2*\n",
        "\n",
        "---\n",
        "\n",
        "Stwórz obiekt klasy Square, o atrybucie side, area,circumference i metodach, get_area(), get_circ(), odpowiednio obliczające pole i obwód kwadratu\n"
      ],
      "metadata": {
        "id": "xb5DpCI7yPt8"
      }
    },
    {
      "cell_type": "code",
      "source": [
        "class Square():\n",
        "  def __init__(self, side):\n",
        "    self.side = float(side)\n",
        "\n",
        "  def get_area(self):\n",
        "    return self.side**2\n",
        "\n",
        "  def get_circ(self):\n",
        "    return 4 * self.side\n",
        "\n",
        "side = 3\n",
        "\n",
        "area = Square(side)\n",
        "circumference = Square(side)\n",
        "area.get_area()\n",
        "circumference.get_circ()"
      ],
      "metadata": {
        "id": "0bdFUbQHykbY"
      },
      "execution_count": null,
      "outputs": []
    },
    {
      "cell_type": "markdown",
      "source": [
        "# Zadanie 3\n",
        "\n",
        "\n",
        "---\n",
        "\n",
        "\n",
        "Stwórz klasy Square, Rectangle, Circle, Triangle, Figure I ustal schemat dziedziczenia między nimi."
      ],
      "metadata": {
        "id": "Dki0V2XcbL0S"
      }
    },
    {
      "cell_type": "code",
      "source": [
        "import math\n",
        "\n",
        "class Figure:\n",
        "  def __init__(self,side):\n",
        "    self.side = side\n",
        "\n",
        "  def get_circ(self):\n",
        "    pass\n",
        "\n",
        "class Rectangle(Figure):\n",
        "  def __init__(self,side1,side2):\n",
        "    self.side1 = side1\n",
        "    self.side2 = side2\n",
        "  def get_circ(self):\n",
        "    return 2*self.side1 + 2*self.side2\n",
        "\n",
        "class Square(Figure):\n",
        "  def __init__(self, side):\n",
        "    self.side = float(side)\n",
        "  def get_circ(self):\n",
        "    return 4*self.side\n",
        "\n",
        "class Circle(Figure):\n",
        "  def __init__(self,radius):\n",
        "    self.radius = radius\n",
        "  def get_circ(self):\n",
        "    return 2*math.pi*self.radius\n",
        "\n",
        "class Triangle(Figure):\n",
        "  def __init__(self,side1,side2,side3):\n",
        "    self.side1 = side1\n",
        "    self.side2 = side2\n",
        "    self.side3 = side3\n",
        "  def get_circ(self):\n",
        "    return self.side1 + self.side2 + self.side3\n",
        "\n",
        "square = Square(2)\n",
        "rectangle = Rectangle(4,1)\n",
        "circle = Circle(3)\n",
        "triangle = Triangle(2,3,5)\n",
        "\n",
        "square.get_circ()\n",
        "rectangle.get_circ()\n",
        "circle.get_circ()\n",
        "triangle.get_circ()"
      ],
      "metadata": {
        "id": "Qmnjo4ApcesQ"
      },
      "execution_count": null,
      "outputs": []
    },
    {
      "cell_type": "markdown",
      "source": [
        "# Zadanie 4\n",
        "\n",
        "\n",
        "---\n",
        "Za pomocą generatora, stwórz instrukcję, która będzie zwracać kolejne liczby z przedziału podanego przez użytkownika.\n"
      ],
      "metadata": {
        "id": "HZFNYtmfbV-b"
      }
    },
    {
      "cell_type": "code",
      "source": [
        "def generator(first,last):\n",
        "  for num in range(first, last+1):\n",
        "    yield num\n",
        "\n",
        "\n",
        "first_num = int(input(\"Please insert the first number of the range: \"))\n",
        "last_num = int(input(\"Please insert the last number of the range: \"))\n",
        "\n",
        "for number in generator(first_num,last_num):\n",
        "  number"
      ],
      "metadata": {
        "id": "0j06sVPglEvC"
      },
      "execution_count": null,
      "outputs": []
    },
    {
      "cell_type": "markdown",
      "source": [
        "# Zadanie 5\n",
        "\n",
        "\n",
        "---\n",
        "\n",
        "\n",
        "Dana jest tabela pacjentów. Zapisz informację o każdym z pacjentów w formie słownika. Dane wprowadź w kolejności, w jakiej pojawiają się w tabeli.\n"
      ],
      "metadata": {
        "id": "uvDXxqziboQK"
      }
    },
    {
      "cell_type": "code",
      "source": [
        "patient_inf = {\n",
        "    'name':['Jan', 'Tom', 'Ana', 'Ina', 'Kris'],\n",
        "    'age':[33,35,21,29,24],\n",
        "    'gender':['M','M','K','K','M'],\n",
        "    'temperature':[36.6,39,36.7,36.6,37.],\n",
        "    'is_sick': [False, True, True, False, True],\n",
        "    'blood':['0','A','A','B','AB'],\n",
        "    'Height':[175,179,165,172,182]}\n",
        "patient_inf"
      ],
      "metadata": {
        "id": "f-x5mHTTtcUM"
      },
      "execution_count": null,
      "outputs": []
    },
    {
      "cell_type": "markdown",
      "source": [
        "# Zadanie 6\n",
        "\n",
        "\n",
        "---\n",
        "\n",
        "Wykorzystaj dane z poprzedniego zadania, do stworzenia funkcji zwracającej treść:\n",
        "„Hello”+ name +”! Your body temperature is ” +temperature+’. My scanners suggest you are ’<”Sick” if Is_sick==True; else “healthy”>\n"
      ],
      "metadata": {
        "id": "DycszRoHb53g"
      }
    },
    {
      "cell_type": "code",
      "source": [
        "patient_inf = {\n",
        "    'name':['Jan', 'Tom', 'Ana', 'Ina', 'Kris'],\n",
        "    'age':[33,35,21,29,24],\n",
        "    'gender':['M','M','K','K','M'],\n",
        "    'temperature':[36.6,39,36.7,36.6,37.],\n",
        "    'is_sick': [False, True, True, False, True],\n",
        "    'blood':['0','A','A','B','AB'],\n",
        "    'Height':[175,179,165,172,182]}\n",
        "\n",
        "def patient_message(patient_inf, selected_patient_name):\n",
        "  for patient_name, patient_temperature, patient_is_sick in zip(patient_inf['name'], patient_inf['temperature'], patient_inf['is_sick']):\n",
        "    if patient_name == selected_patient_name:\n",
        "       message = 'Hello ' + patient_name + '! Your body temperature is ' + str(patient_temperature) + '. My scanners suggest you are '\n",
        "       message += 'sick' if patient_is_sick else 'healthy'\n",
        "       message\n",
        "       break\n",
        "\n",
        "patient_message(patient_inf,'Jan')\n"
      ],
      "metadata": {
        "id": "Sld7E-AbrP3o"
      },
      "execution_count": 20,
      "outputs": []
    }
  ]
}